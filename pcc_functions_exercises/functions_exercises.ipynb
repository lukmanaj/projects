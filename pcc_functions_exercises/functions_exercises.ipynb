{
 "cells": [
  {
   "attachments": {},
   "cell_type": "markdown",
   "metadata": {},
   "source": [
    "# CHAPTER 8: FUNCTIONS"
   ]
  },
  {
   "attachments": {},
   "cell_type": "markdown",
   "metadata": {},
   "source": [
    "8-1. Message: Write a function called display_message() that prints one sentence telling everyone what you are learning about in this chapter. Call the function, and make sure the message displays correctly"
   ]
  },
  {
   "cell_type": "code",
   "execution_count": 1,
   "metadata": {},
   "outputs": [
    {
     "name": "stdout",
     "output_type": "stream",
     "text": [
      "I am learning how functions work in Python in this exciting chapter of this most helpful book\n",
      "Display message: None\n"
     ]
    }
   ],
   "source": [
    "def display_message():\n",
    "    '''Display a custom message'''\n",
    "    print('I am learning how functions work in Python in this exciting chapter of this most helpful book')\n",
    "\n",
    "print(f'Display message: {display_message()}')\n"
   ]
  },
  {
   "attachments": {},
   "cell_type": "markdown",
   "metadata": {},
   "source": [
    "8-2. Favorite Book: Write a function called favorite_book() that accepts one \n",
    "parameter, title. The function should print a message, such as One of my \n",
    "favorite books is Alice in Wonderland. Call the function, making sure to \n",
    "include a book title as an argument in the function call."
   ]
  },
  {
   "cell_type": "code",
   "execution_count": 7,
   "metadata": {},
   "outputs": [
    {
     "data": {
      "text/plain": [
       "'One of the most impactful books I have read in recent years is Sapiens'"
      ]
     },
     "execution_count": 7,
     "metadata": {},
     "output_type": "execute_result"
    }
   ],
   "source": [
    "def favorite_book(title):\n",
    "    '''Describe favourite book'''\n",
    "    return f'One of the most impactful books I have read in recent years is {title}'\n",
    "favorite_book('Sapiens')\n"
   ]
  },
  {
   "attachments": {},
   "cell_type": "markdown",
   "metadata": {},
   "source": [
    "8-3. T-Shirt: Write a function called make_shirt() that accepts a size and the \n",
    "text of a message that should be printed on the shirt. The function should print \n",
    "a sentence summarizing the size of the shirt and the message printed on it.\n",
    "Call the function once using positional arguments to make a shirt. Call the \n",
    "function a second time using keyword arguments.\n"
   ]
  },
  {
   "cell_type": "code",
   "execution_count": 4,
   "metadata": {},
   "outputs": [
    {
     "name": "stdout",
     "output_type": "stream",
     "text": [
      "Using positional arguments:  Medium shirt, Go get it man\n",
      "Using keyword arguments:  Medium shirt, Go get it man\n"
     ]
    }
   ],
   "source": [
    "def make_shirt(size,message):\n",
    "\n",
    "    return (f'{size} shirt, {message}')\n",
    "\n",
    "print('Using positional arguments: ', make_shirt('Medium','Go get it man'))\n",
    "print('Using keyword arguments: ', make_shirt(size='Medium',message='Go get it man'))\n"
   ]
  },
  {
   "attachments": {},
   "cell_type": "markdown",
   "metadata": {},
   "source": [
    "8-4. Large Shirts: Modify the make_shirt() function so that shirts are large \n",
    "by default with a message that reads I love Python. Make a large shirt and a \n",
    "medium shirt with the default message, and a shirt of any size with a different \n",
    "message"
   ]
  },
  {
   "cell_type": "code",
   "execution_count": 8,
   "metadata": {},
   "outputs": [
    {
     "name": "stdout",
     "output_type": "stream",
     "text": [
      "large:  {'large shirt, I love Python'}\n",
      "medium:  medium shirt, I love Python\n",
      "small with a different message:  small shirt, Coding rocks\n"
     ]
    }
   ],
   "source": [
    "def make_shirt_v2(size='large',message='I love Python'):\n",
    "    '''Summarising shirt details'''\n",
    "    return f'{size} shirt, {message}'\n",
    "\n",
    "print('large: ', {make_shirt_v2('large')})\n",
    "print('medium: ', make_shirt_v2('medium'))\n",
    "print('small with a different message: ', make_shirt_v2('small','Coding rocks'))"
   ]
  },
  {
   "attachments": {},
   "cell_type": "markdown",
   "metadata": {},
   "source": [
    "8-5. Cities: Write a function called describe_city() that accepts the name of \n",
    "a city and its country. The function should print a simple sentence, such as \n",
    "Reykjavik is in Iceland. Give the parameter for the country a default value. \n",
    "Call your function for three different cities, at least one of which is not in the \n",
    "default country."
   ]
  },
  {
   "cell_type": "code",
   "execution_count": 9,
   "metadata": {},
   "outputs": [
    {
     "name": "stdout",
     "output_type": "stream",
     "text": [
      "Kano:  Kano is an important city in Nigeria\n",
      "Kaduna:  Kaduna is an important city in Nigeria\n",
      "Not in Nigeria:  Paris is an important city in France\n"
     ]
    }
   ],
   "source": [
    "def describe_city(city,country='Nigeria'):\n",
    "    '''Describe a city'''\n",
    "    return f'{city} is an important city in {country}'\n",
    "print('Kano: ', describe_city('Kano'))\n",
    "print('Kaduna: ', describe_city('Kaduna'))\n",
    "print('Not in Nigeria: ', describe_city('Paris','France'))\n"
   ]
  },
  {
   "attachments": {},
   "cell_type": "markdown",
   "metadata": {},
   "source": [
    "8-6. City Names: Write a function called city_country() that takes in the name \n",
    "of a city and its country. The function should return a string formatted like this:\n",
    "\"Santiago, Chile\" \n",
    "Call your function with at least three city-country pairs and print the values that are returned"
   ]
  },
  {
   "cell_type": "code",
   "execution_count": 12,
   "metadata": {},
   "outputs": [
    {
     "name": "stdout",
     "output_type": "stream",
     "text": [
      "Kaduna, Nigeria\n",
      "Paris, France\n",
      "Los Angeles, Usa\n"
     ]
    }
   ],
   "source": [
    "def city_country(city,country):\n",
    "    '''Returns the formatted name of a city and its country'''\n",
    "    full = f'{city}, {country}'\n",
    "    return full.title()\n",
    "\n",
    "kd = city_country('kaduna','nigeria')\n",
    "print(kd)\n",
    "par = city_country('paris','france')\n",
    "print(par)\n",
    "la = city_country('los angeles','USA')\n",
    "print(la)\n"
   ]
  },
  {
   "attachments": {},
   "cell_type": "markdown",
   "metadata": {},
   "source": [
    "8-7. Album: Write a function called make_album() that builds a dictionary \n",
    "describing a music album. The function should take in an artist name and an \n",
    "album title, and it should return a dictionary containing these two pieces of \n",
    "information. Use the function to make three dictionaries representing different \n",
    "albums. Print each return value to show that the dictionaries are storing the \n",
    "album information correctly.\n",
    "Use None to add an optional parameter to make_album() that allows you to \n",
    "store the number of songs on an album. If the calling line includes a value for \n",
    "the number of songs, add that value to the album’s dictionary. Make at least \n",
    "one new function call that includes the number of songs on an album.'''\n"
   ]
  },
  {
   "cell_type": "code",
   "execution_count": 13,
   "metadata": {},
   "outputs": [
    {
     "name": "stdout",
     "output_type": "stream",
     "text": [
      "{'artist': 'Michael', 'album_title': 'Thriller'} {'artist': 'Rihanna', 'album_title': 'Diamonds'} {'artist': 'Justin Bieber', 'album_title': 'Getout'}\n"
     ]
    }
   ],
   "source": [
    "def make_album(artist_name,album_title):\n",
    "    '''Returns a dictionary of music album details'''\n",
    "    music_album = {'artist':artist_name,'album_title':album_title}\n",
    "    return music_album\n",
    "a = make_album('Michael','Thriller')\n",
    "b = make_album('Rihanna','Diamonds')\n",
    "c = make_album('Justin Bieber','Getout')\n",
    "print(a,b,c,)\n"
   ]
  },
  {
   "cell_type": "code",
   "execution_count": 14,
   "metadata": {},
   "outputs": [
    {
     "name": "stdout",
     "output_type": "stream",
     "text": [
      "{'artist': 'Lukman', 'album_title': 'Luqman', 'Number of songs': 1}\n",
      "{'artist': 'Aminu', 'album_title': 'Soyayya'}\n"
     ]
    }
   ],
   "source": [
    "def make_album_v2(artist_name,album_title,song_num=None):\n",
    "    '''Returns a dictionary of music album details'''\n",
    "    music_album = {'artist':artist_name,'album_title':album_title}\n",
    "    if song_num:\n",
    "        music_album['Number of songs'] = song_num\n",
    "    return music_album\n",
    "\n",
    "d = make_album_v2('Lukman','Luqman',1)\n",
    "print(d)\n",
    "e = make_album_v2('Aminu','Soyayya')  # not adding the optional argument\n",
    "print(e)\n"
   ]
  },
  {
   "attachments": {},
   "cell_type": "markdown",
   "metadata": {},
   "source": [
    "8-8. User Albums: Start with your program from Exercise 8-7. Write a while\n",
    "loop that allows users to enter an album’s artist and title. Once you have that \n",
    "information, call make_album() with the user’s input and print the dictionary \n",
    "that’s created. Be sure to include a quit value in the while loop"
   ]
  },
  {
   "cell_type": "code",
   "execution_count": 16,
   "metadata": {},
   "outputs": [
    {
     "name": "stdout",
     "output_type": "stream",
     "text": [
      "\n",
      "Please enter the details of the album\n",
      "enter \"q\" at any time to quit\n",
      "\n",
      "Here is the album: {'artist': 'Lukman', 'album_title': 'Aliu'}\n",
      "\n",
      "Please enter the details of the album\n",
      "enter \"q\" at any time to quit\n",
      "\n",
      "Here is the album: {'artist': 'we', 'album_title': 'w'}\n",
      "\n",
      "Please enter the details of the album\n",
      "enter \"q\" at any time to quit\n"
     ]
    }
   ],
   "source": [
    "while True:\n",
    "    print('\\nPlease enter the details of the album')\n",
    "    print('enter \"q\" at any time to quit')\n",
    "    album_artist = input('\\nEnter the name of the artist: ')\n",
    "    if album_artist == 'q':\n",
    "        break\n",
    "    album_title = input('Enter the title of the album: ')\n",
    "    if album_title == 'q':\n",
    "        break\n",
    "\n",
    "    album = make_album(album_artist,album_title)\n",
    "    print(f'\\nHere is the album: {album}')\n"
   ]
  },
  {
   "attachments": {},
   "cell_type": "markdown",
   "metadata": {},
   "source": [
    "8-9. Messages: Make a list containing a series of short text messages. Pass the \n",
    "list to a function called show_messages(), which prints each text message.'''\n"
   ]
  },
  {
   "cell_type": "code",
   "execution_count": 17,
   "metadata": {},
   "outputs": [
    {
     "name": "stdout",
     "output_type": "stream",
     "text": [
      "Enjoying Python\n",
      "Coding is fun\n",
      "Super happy\n",
      "Addicted to it in a good way\n"
     ]
    }
   ],
   "source": [
    "messages = ['Enjoying Python','Coding is fun','Super happy','Addicted to it in a good way']\n",
    "def show_messages(list):\n",
    "    '''Prints the messages contained in a list of messages passed to it'''\n",
    "    for item in list:\n",
    "        print(item)\n",
    "show_messages(messages)\n"
   ]
  },
  {
   "attachments": {},
   "cell_type": "markdown",
   "metadata": {},
   "source": [
    "8-10. Sending Messages: Start with a copy of your program from Exercise 8-9. \n",
    "Write a function called send_messages() that prints each text message and \n",
    "moves each message to a new list called sent_messages as it’s printed. After \n",
    "calling the function, print both of your lists to make sure the messages were \n",
    "moved correctly"
   ]
  },
  {
   "cell_type": "code",
   "execution_count": 18,
   "metadata": {},
   "outputs": [
    {
     "name": "stdout",
     "output_type": "stream",
     "text": [
      "Sending message: Addicted to it in a good way\n",
      "Sending message: Super happy\n",
      "Sending message: Coding is fun\n",
      "Sending message: Enjoying Python\n",
      "initial: [],final: ['Addicted to it in a good way', 'Super happy', 'Coding is fun', 'Enjoying Python']\n"
     ]
    },
    {
     "data": {
      "text/plain": [
       "[]"
      ]
     },
     "execution_count": 18,
     "metadata": {},
     "output_type": "execute_result"
    }
   ],
   "source": [
    "def send_messages(message_list,sent_messages):\n",
    "    '''Moves each message in the message_list to sent_messages list after printing'''\n",
    "    while message_list:\n",
    "        sent_message = message_list.pop()\n",
    "        print(f'Sending message: {sent_message}')\n",
    "        sent_messages.append(sent_message)\n",
    "\n",
    "messages = ['Enjoying Python','Coding is fun','Super happy','Addicted to it in a good way']\n",
    "sent = []\n",
    "send_messages(messages,sent)\n",
    "\n",
    "print(f'initial: {messages},final: {sent}')\n",
    "messages # empty\n"
   ]
  },
  {
   "attachments": {},
   "cell_type": "markdown",
   "metadata": {},
   "source": [
    "8-11. Archived Messages: Start with your work from Exercise 8-10. Call the \n",
    "function send_messages() with a copy of the list of messages. After calling the \n",
    "function, print both of your lists to show that the original list has retained its \n",
    "messages"
   ]
  },
  {
   "cell_type": "code",
   "execution_count": 19,
   "metadata": {},
   "outputs": [
    {
     "name": "stdout",
     "output_type": "stream",
     "text": [
      "Sending message: Addicted to it in a good way\n",
      "Sending message: Super happy\n",
      "Sending message: Coding is fun\n",
      "Sending message: Enjoying Python\n",
      "initial: ['Enjoying Python', 'Coding is fun', 'Super happy', 'Addicted to it in a good way']\n",
      "final: ['Addicted to it in a good way', 'Super happy', 'Coding is fun', 'Enjoying Python']\n"
     ]
    }
   ],
   "source": [
    "messages = ['Enjoying Python','Coding is fun','Super happy','Addicted to it in a good way']\n",
    "sent = []\n",
    "\n",
    "send_messages(messages[:],sent)\n",
    "print(f'initial: {messages}')\n",
    "print(f'final: {sent}')\n"
   ]
  },
  {
   "attachments": {},
   "cell_type": "markdown",
   "metadata": {},
   "source": [
    "8-12. Sandwiches: Write a function that accepts a list of items a person wants \n",
    "on a sandwich. The function should have one parameter that collects as many \n",
    "items as the function call provides, and it should print a summary of the sand-wich that’s being ordered. \n",
    "Call the function three times, using a different num￾ber of arguments each time.'''\n"
   ]
  },
  {
   "cell_type": "code",
   "execution_count": 22,
   "metadata": {},
   "outputs": [
    {
     "name": "stdout",
     "output_type": "stream",
     "text": [
      "\n",
      "Sandwich will be made containing the following: \n",
      "-apple\n",
      "-banana\n",
      "-pizza\n",
      "-guava\n",
      "-orange\n",
      "\n",
      "Sandwich will be made containing the following: \n",
      "-gon\n",
      "-kwon\n",
      "\n",
      "Sandwich will be made containing the following: \n",
      "-cassava\n"
     ]
    }
   ],
   "source": [
    "def make_sandwich(*items):\n",
    "    '''Print a summary of the contents of ordered sandwich'''\n",
    "    print(f'\\nSandwich will be made containing the following: ')\n",
    "    for item in items:\n",
    "        print(f'-{item}')\n",
    "make_sandwich('apple','banana','pizza','guava','orange')\n",
    "make_sandwich('gon','kwon')\n",
    "make_sandwich('cassava')"
   ]
  },
  {
   "cell_type": "markdown",
   "metadata": {},
   "source": [
    "8-13. User Profile: Start with a copy of user_profile.py from page 149. Build a \n",
    "profile of yourself by calling build_profile(), using your first and last names \n",
    "and three other key-value pairs that describe you."
   ]
  },
  {
   "cell_type": "code",
   "execution_count": 23,
   "metadata": {},
   "outputs": [
    {
     "data": {
      "text/plain": [
       "{'age': 28,\n",
       " 'language': 'Hausa',\n",
       " 'country': 'Nigeria',\n",
       " 'first_name': 'Lukman',\n",
       " 'last_name': 'Aliyu'}"
      ]
     },
     "execution_count": 23,
     "metadata": {},
     "output_type": "execute_result"
    }
   ],
   "source": [
    "def build_profile(first, last, **user_info):\n",
    "    \"\"\"Build a dictionary containing everything we know about a user.\"\"\"\n",
    "    user_info['first_name'] = first\n",
    "    user_info['last_name'] = last\n",
    "    return user_info\n",
    "\n",
    "build_profile('Lukman','Aliyu',age=28,language='Hausa',country='Nigeria')\n"
   ]
  },
  {
   "attachments": {},
   "cell_type": "markdown",
   "metadata": {},
   "source": [
    "8-14. Cars: Write a function that stores information about a car in a dictionary. \n",
    "The function should always receive a manufacturer and a model name. It \n",
    "should then accept an arbitrary number of keyword arguments. \n",
    "Call the function with the required information and two other name-value pairs, such as a \n",
    "color or an optional feature. Your function should work for a call like this one:\n",
    "car = make_car('subaru', 'outback', color='blue', tow_package=True)\n",
    "Print the dictionary that’s returned to make sure all the information was \n",
    "stored correctly"
   ]
  },
  {
   "cell_type": "code",
   "execution_count": 25,
   "metadata": {},
   "outputs": [
    {
     "name": "stdout",
     "output_type": "stream",
     "text": [
      "{'year': 86, 'gear': '6-bg', 'manufacturer': 'honda', 'model_name': 'accord'}\n"
     ]
    }
   ],
   "source": [
    "def make_car(manufacturer,model_name,**car_info):\n",
    "    '''Gives information about a car'''\n",
    "    car_info['manufacturer'] = manufacturer\n",
    "    car_info['model_name'] = model_name \n",
    "    return car_info\n",
    "\n",
    "print(make_car('honda','accord',year=86,gear='6-bg'))\n"
   ]
  },
  {
   "cell_type": "markdown",
   "metadata": {},
   "source": [
    "8-15. Printing Models: Put the functions for the example printing_models.py in a \n",
    "separate file called printing_functions.py. Write an import statement at the top \n",
    "of printing_models.py, and modify the file to use the imported functions. \n",
    "\n",
    "\n",
    "\n",
    "\n",
    "\n",
    "8-16. Imports: Using a program you wrote that has one function in it, store that \n",
    "function in a separate file. Import the function into your main program file, and \n",
    "call the function using each of these approaches:\n",
    "import module_name\n",
    "from module_name import function_name\n",
    "from module_name import function_name as fn\n",
    "import module_name as mn\n",
    "from module_name import *\n",
    "\n",
    "\n",
    "8-17. Styling Functions: Choose any three programs you wrote for this chapter, \n",
    "and make sure they follow the styling guidelines described in this section.\n"
   ]
  },
  {
   "attachments": {},
   "cell_type": "markdown",
   "metadata": {},
   "source": [
    "The three questions above have been treated in 30DaysofPython"
   ]
  },
  {
   "cell_type": "markdown",
   "metadata": {},
   "source": []
  }
 ],
 "metadata": {
  "kernelspec": {
   "display_name": "Python 3",
   "language": "python",
   "name": "python3"
  },
  "language_info": {
   "codemirror_mode": {
    "name": "ipython",
    "version": 3
   },
   "file_extension": ".py",
   "mimetype": "text/x-python",
   "name": "python",
   "nbconvert_exporter": "python",
   "pygments_lexer": "ipython3",
   "version": "3.9.2"
  },
  "orig_nbformat": 4,
  "vscode": {
   "interpreter": {
    "hash": "31f2aee4e71d21fbe5cf8b01ff0e069b9275f58929596ceb00d14d90e3e16cd6"
   }
  }
 },
 "nbformat": 4,
 "nbformat_minor": 2
}
