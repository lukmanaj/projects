{
 "cells": [
  {
   "attachments": {},
   "cell_type": "markdown",
   "metadata": {},
   "source": [
    "9-1. Restaurant: Make a class called Restaurant. The __init__() method for \n",
    "Restaurant should store two attributes: a restaurant_name and a cuisine_type. \n",
    "Make a method called describe_restaurant() that prints these two pieces of \n",
    "information, and a method called open_restaurant() that prints a message indicating that the restaurant is open.\n",
    "Make an instance called restaurant from your class. Print the two attributes individually, and then call both methods."
   ]
  },
  {
   "cell_type": "code",
   "execution_count": 1,
   "metadata": {},
   "outputs": [
    {
     "name": "stdout",
     "output_type": "stream",
     "text": [
      "Sweeties\n",
      "Italian\n",
      "Sweeties offers the best Italian meals\n",
      "None\n",
      "Sweeties is open for business\n",
      "None\n"
     ]
    }
   ],
   "source": [
    "class Restaurant:\n",
    "    '''A simple attempt to model a Restaurant'''\n",
    "    def __init__(self,restaurant_name,cuisine_type):\n",
    "        '''Initialise restaurant name and cuisine type'''\n",
    "        self.restaurant_name = restaurant_name\n",
    "        self.cuisine_type = cuisine_type\n",
    "\n",
    "    def describe_restaurant(self):\n",
    "        '''Print restaurant name and cuisine type'''\n",
    "        print(f'{self.restaurant_name} offers the best {self.cuisine_type} meals')\n",
    "\n",
    "    def open_restaurant(self):\n",
    "        '''Indicate that restaurant is open'''\n",
    "        print(f'{self.restaurant_name} is open for business')\n",
    "    \n",
    "\n",
    "\n",
    "a_restaurant = Restaurant('Sweeties','Italian')\n",
    "print(a_restaurant.restaurant_name)\n",
    "print(a_restaurant.cuisine_type)\n",
    "print(a_restaurant.describe_restaurant())\n",
    "print(a_restaurant.open_restaurant())\n"
   ]
  },
  {
   "attachments": {},
   "cell_type": "markdown",
   "metadata": {},
   "source": [
    "9-2. Three Restaurants: Start with your class from Exercise 9-1. Create three \n",
    "different instances from the class, and call describe_restaurant() for each \n",
    "instance"
   ]
  },
  {
   "cell_type": "code",
   "execution_count": 2,
   "metadata": {},
   "outputs": [
    {
     "name": "stdout",
     "output_type": "stream",
     "text": [
      "Diamonds offers the best Hausa meals\n",
      "None\n",
      "Freebies offers the best Yoruba meals\n",
      "None\n",
      "Limine offers the best Russian meals\n",
      "None\n"
     ]
    }
   ],
   "source": [
    "rest_one = Restaurant('Diamonds','Hausa')\n",
    "rest_two = Restaurant('Freebies','Yoruba')\n",
    "rest_three = Restaurant('Limine','Russian')\n",
    "print(rest_one.describe_restaurant())\n",
    "print(rest_two.describe_restaurant())\n",
    "print(rest_three.describe_restaurant())\n"
   ]
  },
  {
   "attachments": {},
   "cell_type": "markdown",
   "metadata": {},
   "source": [
    "9-3. Users: Make a class called User. Create two attributes called first_name\n",
    "and last_name, and then create several other attributes that are typically stored \n",
    "in a user profile. Make a method called describe_user() that prints a summary \n",
    "of the user’s information. Make another method called greet_user() that prints \n",
    "a personalized greeting to the user.\n",
    "Create several instances representing different users, and call both methods \n",
    "for each user."
   ]
  },
  {
   "cell_type": "code",
   "execution_count": 4,
   "metadata": {},
   "outputs": [
    {
     "name": "stdout",
     "output_type": "stream",
     "text": [
      "Lukman Aliyu, a 28 years old Pharmacist lives in Kaduna\n",
      "Good day Lukman Aliyu, happy to see you with us\n",
      "Aminu Jibrin, a 27 years old Engineer lives in Zaria\n",
      "Good day Aminu Jibrin, happy to see you with us\n",
      "Hassana Aya, a 22 years old Student lives in Samaru\n",
      "Good day Hassana Aya, happy to see you with us\n"
     ]
    }
   ],
   "source": [
    "class User:\n",
    "    '''Attempt to model a user profile'''\n",
    "    def __init__(self,first_name,last_name,age,city,profession):\n",
    "        '''initialize user first and last name and other info'''\n",
    "        self.first_name = first_name\n",
    "        self.last_name = last_name\n",
    "        self.age = age\n",
    "        self.city = city\n",
    "        self.profession = profession\n",
    "\n",
    "    def describe_user(self):\n",
    "        '''Print user profile'''\n",
    "        print(f'{self.first_name} {self.last_name}, a {self.age} years old {self.profession} lives in {self.city}')\n",
    "\n",
    "    def greet_user(self):\n",
    "        '''Print a personalised greeting to specific user'''\n",
    "        print(f'Good day {self.first_name} {self.last_name}, happy to see you with us')\n",
    "\n",
    "\n",
    "user_one = User('Lukman','Aliyu',28,'Kaduna','Pharmacist')\n",
    "user_two = User('Aminu','Jibrin',27,'Zaria','Engineer')\n",
    "user_three = User('Hassana',\"Aya\",22,'Samaru','Student')\n",
    "\n",
    "user_one.describe_user()\n",
    "user_one.greet_user()\n",
    "\n",
    "user_two.describe_user()\n",
    "user_two.greet_user()\n",
    "\n",
    "user_three.describe_user()\n",
    "user_three.greet_user()\n"
   ]
  },
  {
   "attachments": {},
   "cell_type": "markdown",
   "metadata": {},
   "source": [
    "9-4. Number Served: Start with your program from Exercise 9-1 (page 162). \n",
    "Add an attribute called number_served with a default value of 0. Create an \n",
    "instance called restaurant from this class. Print the number of customers the \n",
    "restaurant has served, and then change this value and print it again.\n",
    "Add a method called set_number_served() that lets you set the number \n",
    "of customers that have been served. Call this method with a new number and \n",
    "print the value again.\n",
    "Add a method called increment_number_served() that lets you increment \n",
    "the number of customers who’ve been served. Call this method with any num￾ber you like that could represent how many customers were served in, say, a \n",
    "day of business"
   ]
  },
  {
   "cell_type": "code",
   "execution_count": 5,
   "metadata": {},
   "outputs": [
    {
     "name": "stdout",
     "output_type": "stream",
     "text": [
      "Innies offers the best Chinese meals and has served 5 customers so far\n",
      "Innies offers the best Chinese meals and has served 20 customers so far\n",
      "Innies offers the best Chinese meals and has served 25 customers so far\n"
     ]
    }
   ],
   "source": [
    "class Restaurant_v2:\n",
    "    '''Another attempt to model a restaurant'''\n",
    "    def __init__(self,restaurant_name,cuisine_type):\n",
    "        '''Initialise restaurant name and cuisine type'''\n",
    "        self.restaurant_name = restaurant_name\n",
    "        self.cuisine_type = cuisine_type\n",
    "        self.number_served = 0\n",
    "\n",
    "    def describe_restaurant(self):\n",
    "        '''Print restaurant name and cuisine type'''\n",
    "        print(f'{self.restaurant_name} offers the best {self.cuisine_type} meals and has served {self.number_served} customers so far')\n",
    "\n",
    "    def open_restaurant(self):\n",
    "        '''Indicate that restaurant is open'''\n",
    "        print(f'{self.restaurant_name} is open for business')\n",
    "    \n",
    "    def set_number_served(self,num):\n",
    "        '''Set the number of customers that have been served'''\n",
    "        if num >= self.number_served:\n",
    "            self.number_served = num\n",
    "        else:\n",
    "            print('We only move forward!!')\n",
    "\n",
    "    def increment_number_served(self,add):\n",
    "        '''Increase the number of customers served by an amount'''\n",
    "        if add > 0:\n",
    "            self.number_served += add\n",
    "        else:\n",
    "            print('Customers served can\\'t be reduced')\n",
    "\n",
    "restaurant = Restaurant_v2('Innies','Chinese')\n",
    "restaurant.number_served   # 0\n",
    "restaurant.number_served = 5\n",
    "restaurant.describe_restaurant()  # 5 customers\n",
    "restaurant.set_number_served(20)\n",
    "restaurant.describe_restaurant()  # change reflected\n",
    "restaurant.increment_number_served(5)\n",
    "restaurant.describe_restaurant() # 5 added \n"
   ]
  },
  {
   "attachments": {},
   "cell_type": "markdown",
   "metadata": {},
   "source": [
    "9-5. Login Attempts: Add an attribute called login_attempts to your User\n",
    "class from Exercise 9-3 (page 162). Write a method called increment_login\n",
    "_attempts() that increments the value of login_attempts by 1. Write another \n",
    "method called reset_login_attempts() that resets the value of login_attempts\n",
    "to 0.\n",
    "Make an instance of the User class and call increment_login_attempts()\n",
    "several times. Print the value of login_attempts to make sure it was incremented \n",
    "properly, and then call reset_login_attempts(). Print login_attempts again to \n",
    "make sure it was reset to 0.\n"
   ]
  },
  {
   "cell_type": "code",
   "execution_count": 7,
   "metadata": {},
   "outputs": [
    {
     "name": "stdout",
     "output_type": "stream",
     "text": [
      "10\n",
      "0\n"
     ]
    }
   ],
   "source": [
    "class User_v2:\n",
    "    '''Attempt to model a user profile'''\n",
    "    def __init__(self,first_name,last_name,age,city,profession):\n",
    "        '''initialize user first and last name and other info'''\n",
    "        self.first_name = first_name\n",
    "        self.last_name = last_name\n",
    "        self.age = age\n",
    "        self.city = city\n",
    "        self.profession = profession\n",
    "        self.login_attempts = 0\n",
    "\n",
    "\n",
    "    def describe_user(self):\n",
    "        '''Print user profile'''\n",
    "        print(f'{self.first_name} {self.last_name}, a {self.age} years old {self.profession} lives in {self.city}')\n",
    "\n",
    "    def greet_user(self):\n",
    "        '''Print a personalised greeting to specific user'''\n",
    "        print(f'Good day {self.first_name} {self.last_name}, happy to see you with us')\n",
    "    \n",
    "    def increment_login_attempts(self):\n",
    "        '''Increase the number of login attempts by 1'''\n",
    "        self.login_attempts += 1\n",
    "\n",
    "    def reset_login_attempts(self):\n",
    "        '''Reset the login_attempts back to zero'''\n",
    "        self.login_attempts = 0\n",
    "\n",
    "user_ex = User_v2('Sam','Wells',30,'Paris','Loafer')\n",
    "for i in range(10):\n",
    "    user_ex.increment_login_attempts()\n",
    "print(user_ex.login_attempts) #10\n",
    "user_ex.reset_login_attempts()\n",
    "print(user_ex.login_attempts)  # back to zero\n"
   ]
  },
  {
   "attachments": {},
   "cell_type": "markdown",
   "metadata": {},
   "source": [
    "9-6. Ice Cream Stand: An ice cream stand is a specific kind of restaurant. Write \n",
    "a class called IceCreamStand that inherits from the Restaurant class you wrote \n",
    "in Exercise 9-1 (page 162) or Exercise 9-4 (page 167). Either version of \n",
    "the class will work; just pick the one you like better. Add an attribute called \n",
    "flavors that stores a list of ice cream flavors. Write a method that displays \n",
    "these flavors. Create an instance of IceCreamStand, and call this method.'''\n"
   ]
  },
  {
   "cell_type": "code",
   "execution_count": 8,
   "metadata": {},
   "outputs": [
    {
     "name": "stdout",
     "output_type": "stream",
     "text": [
      "\n",
      "We have the follwing icecream flavors in stock\n",
      "-strawberry\n",
      "-vanilla\n"
     ]
    }
   ],
   "source": [
    "class IceCreamStand(Restaurant):\n",
    "    '''An sttempt to model an icecream stand, a kind of restaurant'''\n",
    "    def __init__(self, restaurant_name, cuisine_type):\n",
    "        '''Initialise attributes of parent class(Restaurant) then those specific to an IceCreamStand'''\n",
    "        super().__init__(restaurant_name, cuisine_type)\n",
    "        self.flavors = ['strawberry','vanilla']\n",
    "    def display_flavors(self):\n",
    "        '''Display the flavors available in the IceCreamStand'''\n",
    "        print(f'\\nWe have the follwing icecream flavors in stock')\n",
    "        for item in self.flavors:\n",
    "            print(f'-{item}')\n",
    "\n",
    "rose = IceCreamStand('Biggies','French')\n",
    "rose.display_flavors()\n"
   ]
  },
  {
   "attachments": {},
   "cell_type": "markdown",
   "metadata": {},
   "source": [
    "9-7. Admin: An administrator is a special kind of user. Write a class called \n",
    "Admin that inherits from the User class you wrote in Exercise 9-3 (page 162) \n",
    "or Exercise 9-5 (page 167). Add an attribute, privileges, that stores a list \n",
    "of strings like \"can add post\", \"can delete post\", \"can ban user\", and so on. \n",
    "Write a method called show_privileges() that lists the administrator’s set of \n",
    "privileges. Create an instance of Admin, and call your method."
   ]
  },
  {
   "cell_type": "code",
   "execution_count": 9,
   "metadata": {},
   "outputs": [
    {
     "name": "stdout",
     "output_type": "stream",
     "text": [
      "\n",
      " This admin has the following privileges\n",
      "-can add post\n",
      "-can delete post\n",
      "-can ban user\n"
     ]
    }
   ],
   "source": [
    "class Admin(User):\n",
    "    '''An attempt to model an Admin, a special kind of User'''\n",
    "    def __init__(self,first_name,last_name,age,city,profession):\n",
    "        super().__init__(first_name,last_name,age,city,profession)\n",
    "        self.privileges = ['can add post','can delete post','can ban user']\n",
    "    def show_privileges(self):\n",
    "        '''Display the privileges an admin possesses'''\n",
    "        print(f'\\n This admin has the following privileges')\n",
    "        for item in self.privileges:\n",
    "            print(f'-{item}')\n",
    "\n",
    "his_admin = Admin('Lukman','Aliyu',28,'Kaduna','Pharmacist')\n",
    "his_admin.show_privileges()\n",
    "\n"
   ]
  },
  {
   "attachments": {},
   "cell_type": "markdown",
   "metadata": {},
   "source": [
    "9-8. Privileges: Write a separate Privileges class. The class should have one \n",
    "attribute, privileges, that stores a list of strings as described in Exercise 9-7. \n",
    "Move the show_privileges() method to this class. Make a Privileges instance \n",
    "as an attribute in the Admin class. Create a new instance of Admin and use your \n",
    "method to show its privileges"
   ]
  },
  {
   "cell_type": "code",
   "execution_count": 10,
   "metadata": {},
   "outputs": [],
   "source": [
    "class Privileges:\n",
    "    '''An attempt to model the privileges an admin user profile has'''\n",
    "    def __init__(self,privileges = ['can add post','can delete post','can ban user']):\n",
    "        self.privileges = privileges\n",
    "    def show_privileges(self):\n",
    "        '''Display the privileges an admin possesses'''\n",
    "        if self.privileges:\n",
    "            print(f'\\n This admin has the following privileges')\n",
    "            for item in self.privileges:\n",
    "                print(f'-{item}')\n",
    "        else: \n",
    "            print(f'This user has no privileges')\n"
   ]
  },
  {
   "cell_type": "code",
   "execution_count": 11,
   "metadata": {},
   "outputs": [
    {
     "name": "stdout",
     "output_type": "stream",
     "text": [
      "\n",
      " This admin has the following privileges\n",
      "-can add post\n",
      "-can delete post\n",
      "-can ban user\n"
     ]
    }
   ],
   "source": [
    "class Admin_v2(User):\n",
    "    '''An attempt to model an Admin, a special kind of User'''\n",
    "    def __init__(self,first_name,last_name,age,city,profession):\n",
    "        super().__init__(first_name,last_name,age,city,profession)\n",
    "        self.privileges = Privileges()\n",
    "\n",
    "admin_01 = Admin_v2('Lukman','Aliyu',20,'Kano','Analyst')\n",
    "admin_01.privileges.show_privileges()  # worked\n"
   ]
  },
  {
   "attachments": {},
   "cell_type": "markdown",
   "metadata": {},
   "source": [
    "9-9. Battery Upgrade: Use the final version of electric_car.py from this section. \n",
    "Add a method to the Battery class called upgrade_battery(). This method \n",
    "should check the battery size and set the capacity to 100 if it isn’t already. \n",
    "Make an electric car with a default battery size, call get_range() once, and \n",
    "then call get_range() a second time after upgrading the battery. You should \n",
    "see an increase in the car’s range."
   ]
  },
  {
   "cell_type": "code",
   "execution_count": 12,
   "metadata": {},
   "outputs": [],
   "source": [
    "class Car:\n",
    "    \"\"\"A simple attempt to represent a car.\"\"\"\n",
    "\n",
    "    def __init__(self, make, model, year):\n",
    "        self.make = make\n",
    "        self.model = model\n",
    "        self.year = year\n",
    "        self.odometer_reading = 0\n",
    "        \n",
    "    def get_descriptive_name(self):\n",
    "        long_name = f\"{self.year} {self.make} {self.model}\"\n",
    "        return long_name.title()\n",
    "    \n",
    "    def read_odometer(self):\n",
    "        print(f\"This car has {self.odometer_reading} miles on it.\")\n",
    "        \n",
    "    def update_odometer(self, mileage):\n",
    "        if mileage >= self.odometer_reading:\n",
    "            self.odometer_reading = mileage\n",
    "        else:\n",
    "            print(\"You can't roll back an odometer!\")\n",
    "    \n",
    "    def increment_odometer(self, miles):\n",
    "        self.odometer_reading += miles\n",
    "\n",
    "class Battery:\n",
    "    \"\"\"A simple attempt to model a battery for an electric car.\"\"\"\n",
    "    \n",
    "    def __init__(self, battery_size=75):\n",
    "        \"\"\"Initialize the battery's attributes.\"\"\"\n",
    "        self.battery_size = battery_size\n",
    "\n",
    "    def describe_battery(self):\n",
    "        \"\"\"Print a statement describing the battery size.\"\"\"\n",
    "        print(f\"This car has a {self.battery_size}-kWh battery.\")\n",
    "\n",
    "    def get_range(self):\n",
    "        \"\"\"Print a statement about the range this battery provides.\"\"\"\n",
    "        if self.battery_size == 75:\n",
    "            range = 260\n",
    "        elif self.battery_size == 100:\n",
    "            range = 315\n",
    "            \n",
    "        print(f\"This car can go about {range} miles on a full charge.\")\n",
    "\n",
    "    def upgrade_battery(self):\n",
    "        '''Upgrade the battery if there's a need'''\n",
    "        if self.battery_size == 75:\n",
    "            self.battery_size = 100\n",
    "            print('Battery has been upgraded to 100KWh')\n",
    "        else:\n",
    "            print('Battery already upgraded')\n",
    "\n",
    "\n",
    "class ElectricCar(Car):\n",
    "    \"\"\"Represent aspects of a car, specific to electric vehicles.\"\"\"\n",
    "    \n",
    "    def __init__(self, make, model, year):\n",
    "        \"\"\"\n",
    "        Initialize attributes of the parent class.\n",
    "        Then initialize attributes specific to an electric car.\n",
    "        \"\"\"\n",
    "        super().__init__(make, model, year)\n",
    "        self.battery = Battery()\n",
    "\n",
    "    def describe_battery(self):\n",
    "        \"\"\"Print a statement describing the battery size.\"\"\"\n",
    "        print(f\"This car has a {self.battery_size}-kWh battery.\")"
   ]
  },
  {
   "cell_type": "code",
   "execution_count": 13,
   "metadata": {},
   "outputs": [
    {
     "name": "stdout",
     "output_type": "stream",
     "text": [
      "2019 Tesla Model S\n",
      "This car has a 75-kWh battery.\n",
      "This car can go about 260 miles on a full charge.\n",
      "\n",
      "Checking the range after upgrading battery:\n",
      "Battery has been upgraded to 100KWh\n",
      "This car can go about 315 miles on a full charge.\n"
     ]
    }
   ],
   "source": [
    "my_tesla = ElectricCar('tesla', 'model s', 2019)\n",
    "print(my_tesla.get_descriptive_name())\n",
    "my_tesla.battery.describe_battery()\n",
    "my_tesla.battery.get_range()\n",
    "\n",
    "print(\"\\nChecking the range after upgrading battery:\")\n",
    "my_tesla.battery.upgrade_battery()\n",
    "my_tesla.battery.get_range()\n"
   ]
  },
  {
   "attachments": {},
   "cell_type": "markdown",
   "metadata": {},
   "source": [
    "9-10. Imported Restaurant: Using your latest Restaurant class, store it in a mod￾ule. Make a separate file that imports Restaurant. Make a Restaurant instance, \n",
    "and call one of Restaurant’s methods to show that the import statement is working properly.\n",
    "\n",
    "Solution in imported_restaurant.py\n",
    "\n",
    "9-11. Imported Admin: Start with your work from Exercise 9-8 (page 173). \n",
    "Store the classes User, Privileges, and Admin in one module. Create a sepa￾rate file, make an Admin instance, and call show_privileges() to show that \n",
    "everything is working correctly.\n",
    "\n",
    "Solution in imported_admin_ex.py\n",
    "\n",
    "9-12. Multiple Modules: Store the User class in one module, and store the \n",
    "Privileges and Admin classes in a separate module. In a separate file, create \n",
    "an Admin instance and call show_privileges() to show that everything is still \n",
    "working correctly.\n",
    "\n",
    "Solution in multiple_modules_ex.py\n"
   ]
  },
  {
   "attachments": {},
   "cell_type": "markdown",
   "metadata": {},
   "source": [
    "9-13. Dice: Make a class Die with one attribute called sides, which has a default \n",
    "value of 6. Write a method called roll_die() that prints a random number \n",
    "between 1 and the number of sides the die has. Make a 6-sided die and roll it \n",
    "10 times.\n",
    "Make a 10-sided die and a 20-sided die. Roll each die 10 times.\n"
   ]
  },
  {
   "cell_type": "code",
   "execution_count": 14,
   "metadata": {},
   "outputs": [
    {
     "name": "stdout",
     "output_type": "stream",
     "text": [
      "10 rolls of a 6-sided die:\n",
      "[1, 3, 6, 6, 4, 1, 2, 4, 1, 1]\n",
      "\n",
      "10 rolls of a 10-sided die:\n",
      "[1, 2, 5, 10, 8, 4, 8, 4, 9, 3]\n"
     ]
    }
   ],
   "source": [
    "class Die:\n",
    "    '''A class that represents a die'''\n",
    "    def __init__(self,sides=6):\n",
    "        '''Initialize sides of die'''\n",
    "        self.sides = sides\n",
    "    \n",
    "    def roll_die(self):\n",
    "        '''Return a random number between 1 and number of sides in die'''\n",
    "        from random import randint\n",
    "        return (randint(1,self.sides))\n",
    "\n",
    "\n",
    "die_one = Die()\n",
    "# 10 rolls of die\n",
    "result = []\n",
    "for roll in range(10):\n",
    "    res = die_one.roll_die()\n",
    "    result.append(res)\n",
    "print(\"10 rolls of a 6-sided die:\")\n",
    "print(result)\n",
    "\n",
    "die_ten = Die(sides=10)\n",
    "die_ten.roll_die() \n",
    "result = []\n",
    "for roll in range(10):\n",
    "    res = die_ten.roll_die()\n",
    "    result.append(res)\n",
    "print(\"\\n10 rolls of a 10-sided die:\")\n",
    "print(result)\n"
   ]
  },
  {
   "cell_type": "code",
   "execution_count": 15,
   "metadata": {},
   "outputs": [
    {
     "name": "stdout",
     "output_type": "stream",
     "text": [
      "\n",
      "10 rolls of a 20-sided die:\n",
      "[11, 17, 15, 1, 6, 18, 3, 4, 2, 8]\n"
     ]
    }
   ],
   "source": [
    "# Making a 20-sided die, and showing the results of 10 rolls.\n",
    "die_twenty =  Die(sides=20)\n",
    "\n",
    "result = []\n",
    "for roll in range(10):\n",
    "    res = die_twenty.roll_die()\n",
    "    result.append(res)\n",
    "print(\"\\n10 rolls of a 20-sided die:\")\n",
    "print(result)\n"
   ]
  },
  {
   "cell_type": "markdown",
   "metadata": {},
   "source": [
    "9-14. Lottery: Make a list or tuple containing a series of 10 numbers and \n",
    "five letters. Randomly select four numbers or letters from the list and print a \n",
    "message saying that any ticket matching these four numbers or letters wins a \n",
    "prize.\n"
   ]
  },
  {
   "cell_type": "code",
   "execution_count": 16,
   "metadata": {},
   "outputs": [
    {
     "name": "stdout",
     "output_type": "stream",
     "text": [
      "Let's see what the winning ticket is...\n",
      "  We pulled a 17!\n",
      "  We pulled a 11!\n",
      "  We pulled a 6!\n",
      "  We pulled a 3!\n",
      "The winning ticket is [17, 11, 6, 3]\n"
     ]
    }
   ],
   "source": [
    "from random import choice\n",
    "\n",
    "num_letts = [1,3,4,5,6,7,11,8,17,19,'e','g','o','l','f']\n",
    "winning_ticket = []\n",
    "print(\"Let's see what the winning ticket is...\")\n",
    "\n",
    "# Using a while loop to avoid a repeat of letter or number\n",
    "while len(winning_ticket) < 4:\n",
    "    pulled_item = choice(num_letts)\n",
    "\n",
    "    # Only add the pulled item to the winning ticket if it hasn't\n",
    "    #   already been pulled.\n",
    "    if pulled_item not in winning_ticket:\n",
    "        print(f\"  We pulled a {pulled_item}!\")\n",
    "        winning_ticket.append(pulled_item)\n",
    "\n",
    "print(f'The winning ticket is {winning_ticket}')\n"
   ]
  },
  {
   "attachments": {},
   "cell_type": "markdown",
   "metadata": {},
   "source": [
    "9-15. Lottery Analysis: You can use a loop to see how hard it might be to win \n",
    "the kind of lottery you just modeled. Make a list or tuple called my_ticket. \n",
    "Write a loop that keeps pulling numbers until your ticket wins. Print a message \n",
    "reporting how many times the loop had to run to give you a winning ticket.'''\n"
   ]
  },
  {
   "cell_type": "code",
   "execution_count": 17,
   "metadata": {},
   "outputs": [
    {
     "name": "stdout",
     "output_type": "stream",
     "text": [
      "We have a winning ticket!\n",
      "Your ticket: [5, 'f', 19, 7]\n",
      "Winning ticket: [19, 7, 5, 'f']\n",
      "It only took 78 tries to win!\n"
     ]
    }
   ],
   "source": [
    "from random import choice\n",
    "\n",
    "def get_winning_ticket(list):\n",
    "    \"\"\"Return a winning ticket from a list of numbers and letters.\"\"\"\n",
    "    winning_ticket = []\n",
    "\n",
    "    # Using a while loop to prevent a repeat.\n",
    "    while len(winning_ticket) < 4:\n",
    "        pulled_item = choice(list)\n",
    "\n",
    "        # Only add the pulled item to the winning ticket if it hasn't been pulled\n",
    "        if pulled_item not in winning_ticket:\n",
    "            winning_ticket.append(pulled_item)\n",
    "\n",
    "    return winning_ticket\n",
    "\n",
    "def check_ticket(played_ticket, winning_ticket):\n",
    "    '''Check all elements in the played ticket. If any are not in the \n",
    "      winning ticket, return False'''\n",
    "    for element in played_ticket:\n",
    "        if element not in winning_ticket:\n",
    "            return False\n",
    "    # We must have a winning ticket!\n",
    "    return True\n",
    "\n",
    "def make_random_ticket(list):\n",
    "    \"\"\"Return a random ticket from a list of numbers and letters.\"\"\"\n",
    "    ticket = []\n",
    "    # Using a while loop to prevent repetition.\n",
    "    while len(ticket) < 4:\n",
    "        pulled_item = choice(list)\n",
    "\n",
    "        # Only add the pulled item to the ticket if it hasn't already been pulled.\n",
    "        if pulled_item not in ticket:\n",
    "            ticket.append(pulled_item)\n",
    "\n",
    "    return ticket\n",
    "\n",
    "num_letts = [1,3,4,5,6,7,11,8,17,19,'e','g','o','l','f']\n",
    "winning_ticket = get_winning_ticket(num_letts)\n",
    "\n",
    "plays = 0\n",
    "won = False\n",
    "\n",
    "# Let's set a max number of tries\n",
    "max_tries = 1_000_000\n",
    "\n",
    "while not won:\n",
    "    new_ticket = make_random_ticket(num_letts)\n",
    "    won = check_ticket(new_ticket, winning_ticket)\n",
    "    plays += 1\n",
    "    if plays >= max_tries:\n",
    "        break\n",
    "\n",
    "if won:\n",
    "    print(\"We have a winning ticket!\")\n",
    "    print(f\"Your ticket: {new_ticket}\")\n",
    "    print(f\"Winning ticket: {winning_ticket}\")\n",
    "    print(f\"It only took {plays} tries to win!\")\n",
    "else:\n",
    "    print(f\"Tried {plays} times, without pulling a winner. :(\")\n",
    "    print(f\"Your ticket: {new_ticket}\")\n",
    "    print(f\"Winning ticket: {winning_ticket}\")\n"
   ]
  },
  {
   "attachments": {},
   "cell_type": "markdown",
   "metadata": {},
   "source": [
    "9-16. Python Module of the Week: One excellent resource for exploring the \n",
    "Python standard library is a site called Python Module of the Week. Go to \n",
    "https://pymotw.com/ and look at the table of contents. Find a module that \n",
    "looks interesting to you and read about it, perhaps starting with the random\n",
    "module."
   ]
  }
 ],
 "metadata": {
  "kernelspec": {
   "display_name": "Python 3",
   "language": "python",
   "name": "python3"
  },
  "language_info": {
   "codemirror_mode": {
    "name": "ipython",
    "version": 3
   },
   "file_extension": ".py",
   "mimetype": "text/x-python",
   "name": "python",
   "nbconvert_exporter": "python",
   "pygments_lexer": "ipython3",
   "version": "3.9.2"
  },
  "orig_nbformat": 4,
  "vscode": {
   "interpreter": {
    "hash": "31f2aee4e71d21fbe5cf8b01ff0e069b9275f58929596ceb00d14d90e3e16cd6"
   }
  }
 },
 "nbformat": 4,
 "nbformat_minor": 2
}
